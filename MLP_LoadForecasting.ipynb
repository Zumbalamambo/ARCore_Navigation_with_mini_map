{
  "nbformat": 4,
  "nbformat_minor": 0,
  "metadata": {
    "colab": {
      "name": "MLP_LoadForecasting.ipynb",
      "provenance": [],
      "collapsed_sections": [],
      "include_colab_link": true
    },
    "kernelspec": {
      "name": "python3",
      "display_name": "Python 3"
    }
  },
  "cells": [
    {
      "cell_type": "markdown",
      "metadata": {
        "id": "view-in-github",
        "colab_type": "text"
      },
      "source": [
        "<a href=\"https://colab.research.google.com/github/nguyenthanhhoan/ARCore_Navigation_with_mini_map/blob/master/MLP_LoadForecasting.ipynb\" target=\"_parent\"><img src=\"https://colab.research.google.com/assets/colab-badge.svg\" alt=\"Open In Colab\"/></a>"
      ]
    },
    {
      "cell_type": "markdown",
      "metadata": {
        "id": "1UHvZjQ8TVZv",
        "colab_type": "text"
      },
      "source": [
        "**MLP Neuron Network paper implementation \n",
        "Created by Hoan Thanh Nguyen**\n",
        "\n",
        "*No installation requires. All the blocks of code are implements on Google Colab (colab.research.google.com)*\n",
        "\n",
        "The reasons of using Google Colab are (1) it is free of charge, (2) it does not require you to install any further libraries to your systems (which is really troublesome sometimes) and (3) it provides 12 consecutive hours of free GPU.\n",
        "\n",
        "**Instructions:**\n",
        "1.   Go to colab.research.google.com (sign in with your gmail account)\n",
        "2.   Upload this notebook to your working repository by clicking File - Upload notebook\n",
        "3.  Change runtime: in order to use free GPU on google colab, please go to Runtime - Change runtime type - set Hardware accelerator to GPU\n",
        "4.  Go through the following sections step by step to achieve the results in the paper.\n",
        "\n",
        "\n",
        "\n"
      ]
    },
    {
      "cell_type": "code",
      "metadata": {
        "id": "9wgy9bcTCsBF",
        "colab_type": "code",
        "colab": {}
      },
      "source": [
        ""
      ],
      "execution_count": 0,
      "outputs": []
    }
  ]
}